{
 "cells": [
  {
   "cell_type": "code",
   "execution_count": 4,
   "metadata": {},
   "outputs": [],
   "source": [
    "import numpy as np\n",
    "from scipy import stats\n",
    "rng = np.random.default_rng()\n",
    "sample1 = stats.uniform.rvs(size=100, random_state=rng)\n",
    "sample2 = stats.norm.rvs(size=110, random_state=rng)\n",
    "response = stats.ks_2samp(sample1, sample2)"
   ]
  },
  {
   "cell_type": "code",
   "execution_count": 5,
   "metadata": {},
   "outputs": [
    {
     "data": {
      "text/plain": [
       "array([0.93822875, 0.43243157, 0.30146397, 0.15990424, 0.84914847,\n",
       "       0.60830043, 0.7885796 , 0.47647385, 0.37060272, 0.54598479,\n",
       "       0.11788888, 0.45539923, 0.80808194, 0.05364108, 0.84588214,\n",
       "       0.71259183, 0.87782272, 0.37964127, 0.65687974, 0.8022892 ,\n",
       "       0.67644615, 0.28444087, 0.18682049, 0.05303124, 0.30765866,\n",
       "       0.34592097, 0.21434998, 0.0473156 , 0.8099088 , 0.81287392,\n",
       "       0.96819221, 0.76815537, 0.20763334, 0.83756334, 0.93924173,\n",
       "       0.73391625, 0.07924876, 0.19360282, 0.68923346, 0.68866594,\n",
       "       0.58684741, 0.9372835 , 0.6703099 , 0.66101851, 0.57832555,\n",
       "       0.74177853, 0.04055309, 0.09977871, 0.50521332, 0.777313  ,\n",
       "       0.759227  , 0.90149459, 0.19949221, 0.47739751, 0.28827773,\n",
       "       0.85412218, 0.78312818, 0.73830451, 0.90914661, 0.31455733,\n",
       "       0.81274974, 0.76365023, 0.45248003, 0.82042928, 0.3802508 ,\n",
       "       0.99280344, 0.76112029, 0.8509209 , 0.63500051, 0.48357311,\n",
       "       0.08138758, 0.75301288, 0.66807116, 0.01935397, 0.47982691,\n",
       "       0.536459  , 0.00829924, 0.04415268, 0.90854924, 0.41356748,\n",
       "       0.36745532, 0.21934769, 0.30635135, 0.84121118, 0.16426343,\n",
       "       0.06924251, 0.60598973, 0.42439868, 0.97283013, 0.02474083,\n",
       "       0.79498892, 0.5287133 , 0.55023077, 0.57880945, 0.35621346,\n",
       "       0.18259758, 0.77680466, 0.32178347, 0.19893034, 0.35038159])"
      ]
     },
     "execution_count": 5,
     "metadata": {},
     "output_type": "execute_result"
    }
   ],
   "source": [
    "sample1"
   ]
  },
  {
   "cell_type": "code",
   "execution_count": null,
   "metadata": {},
   "outputs": [],
   "source": []
  }
 ],
 "metadata": {
  "kernelspec": {
   "display_name": "Python 3.8.10 64-bit",
   "language": "python",
   "name": "python3"
  },
  "language_info": {
   "codemirror_mode": {
    "name": "ipython",
    "version": 3
   },
   "file_extension": ".py",
   "mimetype": "text/x-python",
   "name": "python",
   "nbconvert_exporter": "python",
   "pygments_lexer": "ipython3",
   "version": "3.8.10"
  },
  "orig_nbformat": 4,
  "vscode": {
   "interpreter": {
    "hash": "e7370f93d1d0cde622a1f8e1c04877d8463912d04d973331ad4851f04de6915a"
   }
  }
 },
 "nbformat": 4,
 "nbformat_minor": 2
}
